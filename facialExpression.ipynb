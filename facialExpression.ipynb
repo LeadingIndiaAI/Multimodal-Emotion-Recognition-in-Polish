{
 "cells": [
  {
   "cell_type": "code",
   "execution_count": 1,
   "metadata": {},
   "outputs": [],
   "source": [
    "import numpy as np\n",
    "import pandas as pd\n",
    "import matplotlib.pyplot as plt\n",
    "import seaborn as sns\n",
    "import os\n",
    "import cv2\n",
    "%matplotlib inline"
   ]
  },
  {
   "cell_type": "code",
   "execution_count": 2,
   "metadata": {},
   "outputs": [],
   "source": [
    "path = 'emotional database/videos/'\n",
    "files = []\n",
    "# r=root, d=directories, f = files\n",
    "for r, d, f in os.walk(path):\n",
    "    for file in f:\n",
    "        files.append(os.path.join(r, file))"
   ]
  },
  {
   "cell_type": "code",
   "execution_count": 3,
   "metadata": {},
   "outputs": [],
   "source": [
    "for i in files:\n",
    "    cap = cv2.VideoCapture(i)\n",
    "    success,image = cap.read()\n",
    "    \n",
    "    try:\n",
    "        # creating a folder named data \n",
    "        if not os.path.exists('/home/aman/BU/Intern/Project/FacialDataFrame'):\n",
    "            os.makedirs('/home/aman/BU/Intern/Project/FacialDataFrame')\n",
    "            \n",
    "    #if not created then raise error\n",
    "    except OSError: \n",
    "        print ('Error: Creating directory of data')\n",
    "        \n",
    "    try:\n",
    "        # creating a folder named data \n",
    "        if not os.path.exists('/home/aman/BU/Intern/Project/FacialDataFrame/' + str(i[26:37])):\n",
    "            os.makedirs('/home/aman/BU/Intern/Project/FacialDataFrame/' + str(i[26:37]))\n",
    "            \n",
    "    #if not created then raise error\n",
    "    except OSError: \n",
    "        print ('Error: Creating directory of data')\n",
    "        \n",
    "        \n",
    "    \n",
    "    currentframe = 0\n",
    "    while success:       \n",
    "        # reading from frame \n",
    "        success,frame = cap.read() \n",
    "        \n",
    "        # if video is still left continue creating images\n",
    "        name = './FacialDataFrame/'+ str(i[26:37]) + '/frame' + str(currentframe) + '.jpg'\n",
    "        \n",
    "        # writing the extracted images \n",
    "        cv2.imwrite(name, frame) \n",
    "        if cv2.waitKey(10) == 27:\n",
    "            break\n",
    "        \n",
    "        currentframe += 1"
   ]
  }
 ],
 "metadata": {
  "kernelspec": {
   "display_name": "Python 3",
   "language": "python",
   "name": "python3"
  },
  "language_info": {
   "codemirror_mode": {
    "name": "ipython",
    "version": 3
   },
   "file_extension": ".py",
   "mimetype": "text/x-python",
   "name": "python",
   "nbconvert_exporter": "python",
   "pygments_lexer": "ipython3",
   "version": "3.7.1"
  }
 },
 "nbformat": 4,
 "nbformat_minor": 2
}
